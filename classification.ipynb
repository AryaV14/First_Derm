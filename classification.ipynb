{
  "cells": [
    {
      "cell_type": "markdown",
      "metadata": {
        "id": "view-in-github",
        "colab_type": "text"
      },
      "source": [
        "<a href=\"https://colab.research.google.com/github/meera2005/First_Derm/blob/master/classification.ipynb\" target=\"_parent\"><img src=\"https://colab.research.google.com/assets/colab-badge.svg\" alt=\"Open In Colab\"/></a>"
      ]
    },
    {
      "cell_type": "code",
      "execution_count": null,
      "metadata": {
        "colab": {
          "base_uri": "https://localhost:8080/"
        },
        "id": "rylYS95rW-vj",
        "outputId": "c2404edc-cd2a-4086-fcb0-679403a55629"
      },
      "outputs": [
        {
          "name": "stdout",
          "output_type": "stream",
          "text": [
            "Drive already mounted at /content/drive; to attempt to forcibly remount, call drive.mount(\"/content/drive\", force_remount=True).\n"
          ]
        }
      ],
      "source": [
        "from google.colab import drive\n",
        "drive.mount('/content/drive')\n"
      ]
    },
    {
      "cell_type": "code",
      "execution_count": null,
      "metadata": {
        "id": "pl5iFi2bXEsv"
      },
      "outputs": [],
      "source": [
        "!unzip -q \"/content/drive/My Drive/dataset.zip\" -d \"/content/dataset/\"\n"
      ]
    },
    {
      "cell_type": "code",
      "execution_count": null,
      "metadata": {
        "id": "P_foxcR8Ibbg"
      },
      "outputs": [],
      "source": [
        "img_path = '/content/drive/My Drive/eczem.png'\n"
      ]
    },
    {
      "cell_type": "code",
      "execution_count": null,
      "metadata": {
        "id": "iDn6eJ_RIg-3"
      },
      "outputs": [],
      "source": [
        "\n",
        "\n",
        "from PIL import Image, ImageFile\n",
        "\n",
        "avatar = Image.open(img_path)\n",
        "\n",
        "img = Image.open(img_path)\n",
        "\n",
        "\n",
        "\n"
      ]
    },
    {
      "cell_type": "code",
      "execution_count": null,
      "metadata": {
        "id": "nvSDwqc-XWPW"
      },
      "outputs": [],
      "source": []
    },
    {
      "cell_type": "code",
      "execution_count": null,
      "metadata": {
        "colab": {
          "base_uri": "https://localhost:8080/"
        },
        "id": "Og3povqYZ_NN",
        "outputId": "a2f049d6-03f0-42fb-a99c-5b0c95909fc6"
      },
      "outputs": [
        {
          "data": {
            "text/plain": [
              "['shingles', 'hives', 'acne', 'eczema', 'rosacea']"
            ]
          },
          "execution_count": 5,
          "metadata": {},
          "output_type": "execute_result"
        }
      ],
      "source": [
        "import os\n",
        "os.listdir('/content/dataset')\n"
      ]
    },
    {
      "cell_type": "code",
      "execution_count": null,
      "metadata": {
        "id": "2gNfB70tKjsq"
      },
      "outputs": [],
      "source": [
        "from PIL import Image"
      ]
    },
    {
      "cell_type": "code",
      "execution_count": null,
      "metadata": {
        "id": "dfEpgD4zKtm5"
      },
      "outputs": [],
      "source": [
        "directory = '/content/dataset/'\n",
        "\n",
        "# Loop over all the images in the directory\n",
        "for filename in os.listdir(directory):\n",
        "    if filename.endswith('.jpg') or filename.endswith('.png'):  # Filter out non-image files\n",
        "        filepath = os.path.join(directory, filename)\n",
        "        image = Image.open(filepath)\n",
        "        if image.mode != 'RGBA':  # Convert to RGBA if not already in RGBA format\n",
        "            image = image.convert('RGBA')\n",
        "            image.save(filepath)  # Save the converted image back to the same file path"
      ]
    },
    {
      "cell_type": "code",
      "execution_count": null,
      "metadata": {
        "id": "IM7WUrHfLV2G"
      },
      "outputs": [],
      "source": [
        "file1=(\"/content/dataset/\")"
      ]
    },
    {
      "cell_type": "code",
      "execution_count": null,
      "metadata": {
        "id": "D_jC86-LLghe"
      },
      "outputs": [],
      "source": [
        "img1=(\"/content/dataset/eczema/1.png\")"
      ]
    },
    {
      "cell_type": "code",
      "execution_count": null,
      "metadata": {
        "id": "_VJGv1shL4-d"
      },
      "outputs": [],
      "source": [
        "image = Image.open(img1)"
      ]
    },
    {
      "cell_type": "code",
      "execution_count": null,
      "metadata": {
        "id": "ufx5TCwVaZrz"
      },
      "outputs": [],
      "source": [
        "from keras.preprocessing.image import ImageDataGenerator\n",
        "import tensorflow as tf\n",
        "image_generator=tf.keras.preprocessing.image.ImageDataGenerator(rescale=1./255,samplewise_center=True,samplewise_std_normalization=True,horizontal_flip=True,validation_split=0.30)"
      ]
    },
    {
      "cell_type": "code",
      "execution_count": null,
      "metadata": {
        "id": "MoH8cHKkMdbT"
      },
      "outputs": [],
      "source": []
    },
    {
      "cell_type": "code",
      "execution_count": null,
      "metadata": {
        "colab": {
          "base_uri": "https://localhost:8080/"
        },
        "id": "im6SMlZ2a0oB",
        "outputId": "2fe069a2-2499-44e7-93ef-8d33f37438bf"
      },
      "outputs": [
        {
          "name": "stdout",
          "output_type": "stream",
          "text": [
            "Found 677 images belonging to 5 classes.\n"
          ]
        }
      ],
      "source": [
        "train_data_gen=image_generator.flow_from_directory(directory=file1,target_size=(224,224),batch_size=32,class_mode='categorical',subset='training')"
      ]
    },
    {
      "cell_type": "code",
      "execution_count": null,
      "metadata": {
        "colab": {
          "base_uri": "https://localhost:8080/"
        },
        "id": "WW6QNxUhtkhZ",
        "outputId": "d50f914a-bdc1-43b8-95c3-80537a233e5a"
      },
      "outputs": [
        {
          "name": "stdout",
          "output_type": "stream",
          "text": [
            "Label Mappings for classes present in the training and validation datasets\n",
            "\n",
            "0 : acne\n",
            "1 : eczema\n",
            "2 : hives\n",
            "3 : rosacea\n",
            "4 : shingles\n"
          ]
        }
      ],
      "source": [
        "labels = {value: key for key, value in train_data_gen.class_indices.items()}\n",
        "\n",
        "print(\"Label Mappings for classes present in the training and validation datasets\\n\")\n",
        "for key, value in labels.items():\n",
        "    print(f\"{key} : {value}\")"
      ]
    },
    {
      "cell_type": "code",
      "execution_count": null,
      "metadata": {
        "id": "TeakDMHnt485"
      },
      "outputs": [],
      "source": [
        "import matplotlib.pyplot as plt\n",
        "import numpy as np"
      ]
    },
    {
      "cell_type": "code",
      "execution_count": null,
      "metadata": {
        "id": "PtbsnQXsuLX1"
      },
      "outputs": [],
      "source": []
    },
    {
      "cell_type": "code",
      "execution_count": null,
      "metadata": {
        "id": "rESBAX-kt4C5"
      },
      "outputs": [],
      "source": []
    },
    {
      "cell_type": "code",
      "execution_count": null,
      "metadata": {
        "colab": {
          "base_uri": "https://localhost:8080/"
        },
        "id": "9RRNqW0vbNIu",
        "outputId": "f103ee7d-a289-4eb4-faf1-c98e61e103e3"
      },
      "outputs": [
        {
          "name": "stdout",
          "output_type": "stream",
          "text": [
            "Found 286 images belonging to 5 classes.\n"
          ]
        }
      ],
      "source": [
        "val_data_gen=image_generator.flow_from_directory(directory=file1,target_size=(224,224),batch_size=16,class_mode='categorical',subset='validation')"
      ]
    },
    {
      "cell_type": "code",
      "execution_count": null,
      "metadata": {
        "colab": {
          "base_uri": "https://localhost:8080/"
        },
        "id": "Dw1L5m5sbalI",
        "outputId": "48100045-9490-4b6c-b5ac-bfcd0df3b1d3"
      },
      "outputs": [
        {
          "name": "stdout",
          "output_type": "stream",
          "text": [
            "Model: \"sequential\"\n",
            "_________________________________________________________________\n",
            " Layer (type)                Output Shape              Param #   \n",
            "=================================================================\n",
            " dense (Dense)               (None, 224, 224, 4)       16        \n",
            "                                                                 \n",
            " conv2d (Conv2D)             (None, 222, 222, 128)     4736      \n",
            "                                                                 \n",
            " max_pooling2d (MaxPooling2D  (None, 110, 110, 128)    0         \n",
            " )                                                               \n",
            "                                                                 \n",
            " conv2d_1 (Conv2D)           (None, 108, 108, 64)      73792     \n",
            "                                                                 \n",
            " max_pooling2d_1 (MaxPooling  (None, 53, 53, 64)       0         \n",
            " 2D)                                                             \n",
            "                                                                 \n",
            " conv2d_2 (Conv2D)           (None, 51, 51, 32)        18464     \n",
            "                                                                 \n",
            " max_pooling2d_2 (MaxPooling  (None, 25, 25, 32)       0         \n",
            " 2D)                                                             \n",
            "                                                                 \n",
            " conv2d_3 (Conv2D)           (None, 23, 23, 32)        9248      \n",
            "                                                                 \n",
            " max_pooling2d_3 (MaxPooling  (None, 21, 21, 32)       0         \n",
            " 2D)                                                             \n",
            "                                                                 \n",
            " flatten (Flatten)           (None, 14112)             0         \n",
            "                                                                 \n",
            " dense_1 (Dense)             (None, 5)                 70565     \n",
            "                                                                 \n",
            "=================================================================\n",
            "Total params: 176,821\n",
            "Trainable params: 176,821\n",
            "Non-trainable params: 0\n",
            "_________________________________________________________________\n"
          ]
        }
      ],
      "source": [
        "model=tf.keras.models.Sequential()\n",
        "model.add(tf.keras.layers.Dense(4,activation='relu',input_shape=[224,224,3]))\n",
        "model.add(tf.keras.layers.Conv2D(128,kernel_size=[3,3],padding='valid',activation='relu'))\n",
        "model.add(tf.keras.layers.MaxPooling2D(pool_size=[3,3],strides=2,padding='valid'))\n",
        "model.add(tf.keras.layers.Conv2D(64,kernel_size=[3,3],padding='valid',activation='relu'))\n",
        "model.add(tf.keras.layers.MaxPooling2D(pool_size=[3,3],strides=2,padding='valid'))\n",
        "model.add(tf.keras.layers.Conv2D(32,kernel_size=[3,3],padding='valid',activation='relu'))\n",
        "model.add(tf.keras.layers.MaxPooling2D(pool_size=[3,3],strides=2,padding='valid'))\n",
        "model.add(tf.keras.layers.Conv2D(32,kernel_size=[3,3],padding='valid',activation='relu'))\n",
        "model.add(tf.keras.layers.MaxPooling2D(pool_size=[3,3],strides=1,padding='valid'))\n",
        "model.add(tf.keras.layers.Flatten())\n",
        "model.add(tf.keras.layers.Dense(5,activation='sigmoid'))\n",
        "model.compile(optimizer='adam',loss='categorical_crossentropy',metrics=['accuracy'])\n",
        "model.summary()\n"
      ]
    },
    {
      "cell_type": "code",
      "execution_count": null,
      "metadata": {
        "colab": {
          "background_save": true,
          "base_uri": "https://localhost:8080/"
        },
        "id": "-2OUW_96batd",
        "outputId": "7b43f8cf-fdb8-46b8-df69-e90f56b350ae"
      },
      "outputs": [
        {
          "name": "stdout",
          "output_type": "stream",
          "text": [
            "Epoch 1/20\n"
          ]
        },
        {
          "name": "stderr",
          "output_type": "stream",
          "text": [
            "/usr/local/lib/python3.9/dist-packages/PIL/Image.py:975: UserWarning: Palette images with Transparency expressed in bytes should be converted to RGBA images\n",
            "  warnings.warn(\n"
          ]
        },
        {
          "name": "stdout",
          "output_type": "stream",
          "text": [
            "22/22 - 183s - loss: 1.5877 - accuracy: 0.2747 - val_loss: 1.5839 - val_accuracy: 0.2483 - 183s/epoch - 8s/step\n",
            "Epoch 2/20\n",
            "22/22 - 185s - loss: 1.5545 - accuracy: 0.3176 - val_loss: 1.5548 - val_accuracy: 0.3182 - 185s/epoch - 8s/step\n",
            "Epoch 3/20\n",
            "22/22 - 182s - loss: 1.4394 - accuracy: 0.3973 - val_loss: 1.5662 - val_accuracy: 0.3252 - 182s/epoch - 8s/step\n",
            "Epoch 4/20\n",
            "22/22 - 183s - loss: 1.3199 - accuracy: 0.4830 - val_loss: 1.5468 - val_accuracy: 0.3566 - 183s/epoch - 8s/step\n",
            "Epoch 5/20\n",
            "22/22 - 186s - loss: 1.2228 - accuracy: 0.4874 - val_loss: 1.4716 - val_accuracy: 0.4056 - 186s/epoch - 8s/step\n",
            "Epoch 6/20\n",
            "22/22 - 182s - loss: 1.0482 - accuracy: 0.5953 - val_loss: 1.5255 - val_accuracy: 0.4441 - 182s/epoch - 8s/step\n",
            "Epoch 7/20\n",
            "22/22 - 182s - loss: 0.9340 - accuracy: 0.6470 - val_loss: 1.6285 - val_accuracy: 0.4790 - 182s/epoch - 8s/step\n",
            "Epoch 8/20\n",
            "22/22 - 186s - loss: 0.8136 - accuracy: 0.6972 - val_loss: 1.5832 - val_accuracy: 0.4825 - 186s/epoch - 8s/step\n",
            "Epoch 9/20\n",
            "22/22 - 177s - loss: 0.6731 - accuracy: 0.7518 - val_loss: 1.8603 - val_accuracy: 0.4825 - 177s/epoch - 8s/step\n",
            "Epoch 10/20\n",
            "22/22 - 179s - loss: 0.6674 - accuracy: 0.7592 - val_loss: 1.8729 - val_accuracy: 0.5035 - 179s/epoch - 8s/step\n",
            "Epoch 11/20\n",
            "22/22 - 185s - loss: 0.5388 - accuracy: 0.8050 - val_loss: 1.7184 - val_accuracy: 0.5839 - 185s/epoch - 8s/step\n",
            "Epoch 12/20\n",
            "22/22 - 181s - loss: 0.4691 - accuracy: 0.8287 - val_loss: 1.8619 - val_accuracy: 0.5350 - 181s/epoch - 8s/step\n",
            "Epoch 13/20\n",
            "22/22 - 179s - loss: 0.3858 - accuracy: 0.8656 - val_loss: 2.0736 - val_accuracy: 0.5839 - 179s/epoch - 8s/step\n",
            "Epoch 14/20\n",
            "22/22 - 180s - loss: 0.2968 - accuracy: 0.8892 - val_loss: 2.4087 - val_accuracy: 0.6294 - 180s/epoch - 8s/step\n",
            "Epoch 15/20\n",
            "22/22 - 183s - loss: 0.3304 - accuracy: 0.9069 - val_loss: 2.0857 - val_accuracy: 0.6469 - 183s/epoch - 8s/step\n",
            "Epoch 16/20\n",
            "22/22 - 178s - loss: 0.3391 - accuracy: 0.8922 - val_loss: 2.1197 - val_accuracy: 0.6294 - 178s/epoch - 8s/step\n",
            "Epoch 17/20\n",
            "22/22 - 178s - loss: 0.2868 - accuracy: 0.9099 - val_loss: 2.6683 - val_accuracy: 0.6189 - 178s/epoch - 8s/step\n",
            "Epoch 18/20\n",
            "22/22 - 185s - loss: 0.2676 - accuracy: 0.9202 - val_loss: 2.6006 - val_accuracy: 0.6538 - 185s/epoch - 8s/step\n",
            "Epoch 19/20\n",
            "22/22 - 178s - loss: 0.3467 - accuracy: 0.8759 - val_loss: 2.2587 - val_accuracy: 0.6259 - 178s/epoch - 8s/step\n"
          ]
        }
      ],
      "source": [
        "modfit=model.fit(train_data_gen,validation_data=val_data_gen,epochs=1,verbose=2)"
      ]
    },
    {
      "cell_type": "code",
      "execution_count": null,
      "metadata": {
        "colab": {
          "base_uri": "https://localhost:8080/"
        },
        "id": "XJexwrd6vABS",
        "outputId": "0a164999-09d9-4b84-d12a-0f5dfe18447a"
      },
      "outputs": [
        {
          "data": {
            "text/plain": [
              "<keras.preprocessing.image.DirectoryIterator at 0x7f597be9cd90>"
            ]
          },
          "execution_count": 23,
          "metadata": {},
          "output_type": "execute_result"
        }
      ],
      "source": [
        "val_data_gen"
      ]
    },
    {
      "cell_type": "code",
      "execution_count": null,
      "metadata": {
        "id": "rTSwIa9NMNyI"
      },
      "outputs": [],
      "source": []
    },
    {
      "cell_type": "code",
      "execution_count": null,
      "metadata": {
        "colab": {
          "base_uri": "https://localhost:8080/"
        },
        "id": "ZbzRPkadr63v",
        "outputId": "3598cd55-8c56-4e10-b02a-296344a2ddf4"
      },
      "outputs": [
        {
          "name": "stdout",
          "output_type": "stream",
          "text": [
            "18/18 [==============================] - 22s 1s/step\n"
          ]
        }
      ],
      "source": [
        "predictions=model.predict(val_data_gen)"
      ]
    },
    {
      "cell_type": "code",
      "execution_count": null,
      "metadata": {
        "id": "Oule29PGx8W9"
      },
      "outputs": [],
      "source": []
    },
    {
      "cell_type": "code",
      "execution_count": null,
      "metadata": {
        "colab": {
          "base_uri": "https://localhost:8080/"
        },
        "id": "KyBL4NWKp3bE",
        "outputId": "093851f8-5858-4701-f2b4-0411a638f3ff"
      },
      "outputs": [
        {
          "name": "stdout",
          "output_type": "stream",
          "text": [
            "acne\n",
            "acne\n",
            "acne\n",
            "acne\n",
            "acne\n"
          ]
        }
      ],
      "source": [
        "idx=0\n",
        "for i in range(5):\n",
        "  predicted_label = labels[np.argmax(predictions[idx])]\n",
        "  print(predicted_label)"
      ]
    },
    {
      "cell_type": "code",
      "execution_count": null,
      "metadata": {
        "colab": {
          "base_uri": "https://localhost:8080/",
          "height": 35
        },
        "id": "oA01wKAdPAzX",
        "outputId": "1f5087d4-2b14-4496-d719-e2c165519577"
      },
      "outputs": [
        {
          "data": {
            "application/vnd.google.colaboratory.intrinsic+json": {
              "type": "string"
            },
            "text/plain": [
              "'/content/dataset/eczema/1.png'"
            ]
          },
          "execution_count": 160,
          "metadata": {},
          "output_type": "execute_result"
        }
      ],
      "source": [
        "\n",
        "img1"
      ]
    },
    {
      "cell_type": "code",
      "execution_count": null,
      "metadata": {
        "id": "MzBPrMYuahij"
      },
      "outputs": [],
      "source": [
        "image = Image.open(img1)"
      ]
    },
    {
      "cell_type": "code",
      "execution_count": null,
      "metadata": {
        "id": "pvczTYuIaoC0"
      },
      "outputs": [],
      "source": [
        "image=image.resize((224,224))\n",
        "img_arr = np.array(image)\n",
        "img_arr = np.expand_dims(img_arr, axis=0)\n",
        "img_arr = img_arr.astype('float32')\n",
        "img_arr /= 255"
      ]
    },
    {
      "cell_type": "code",
      "execution_count": null,
      "metadata": {
        "colab": {
          "base_uri": "https://localhost:8080/"
        },
        "id": "22zWZS4EasGZ",
        "outputId": "afb7eb48-9b2d-4753-e189-cd3153e6d6a7"
      },
      "outputs": [
        {
          "data": {
            "text/plain": [
              "(1, 224, 224, 3)"
            ]
          },
          "execution_count": 25,
          "metadata": {},
          "output_type": "execute_result"
        }
      ],
      "source": [
        "img_arr.shape"
      ]
    },
    {
      "cell_type": "code",
      "execution_count": null,
      "metadata": {
        "colab": {
          "base_uri": "https://localhost:8080/"
        },
        "id": "ppUwHJmTwdSQ",
        "outputId": "c12083ae-0553-4898-d4be-7285a1302f2e"
      },
      "outputs": [
        {
          "name": "stdout",
          "output_type": "stream",
          "text": [
            "1/1 [==============================] - 0s 61ms/step\n"
          ]
        }
      ],
      "source": [
        "prediction=model.predict(img_arr)"
      ]
    },
    {
      "cell_type": "code",
      "execution_count": null,
      "metadata": {
        "id": "fD0G6avdxfJS"
      },
      "outputs": [],
      "source": [
        "label=np.argmax(prediction)"
      ]
    },
    {
      "cell_type": "code",
      "execution_count": null,
      "metadata": {
        "colab": {
          "background_save": true
        },
        "id": "m-LzsuIyxlWA"
      },
      "outputs": [],
      "source": [
        "label_dict={0:\"Acne\",1:\"Eczema\",2:\"hives\",3:}"
      ]
    },
    {
      "cell_type": "code",
      "execution_count": null,
      "metadata": {
        "id": "HuzVUJDXQx5i"
      },
      "outputs": [],
      "source": [
        "image = Image.open(img1)\n",
        "if image.mode != 'RGBA':  \n",
        "          image = image.convert('RGBA')\n",
        "          image.save(img1)"
      ]
    },
    {
      "cell_type": "code",
      "execution_count": null,
      "metadata": {
        "id": "weLW5mCVaFl8"
      },
      "outputs": [],
      "source": [
        "image = Image.open(img1)"
      ]
    },
    {
      "cell_type": "code",
      "execution_count": null,
      "metadata": {
        "id": "-BWVZ7pDa97v"
      },
      "outputs": [],
      "source": [
        "loaded_model = tf.keras.models.load_model('final_model.h5')"
      ]
    },
    {
      "cell_type": "code",
      "execution_count": null,
      "metadata": {
        "id": "xoXmrvppZZ9b",
        "colab": {
          "base_uri": "https://localhost:8080/"
        },
        "outputId": "e7ca5011-01f4-4bc9-e9bd-6afa8bf3b51d"
      },
      "outputs": [
        {
          "output_type": "stream",
          "name": "stdout",
          "text": [
            "1/1 [==============================] - 0s 225ms/step\n"
          ]
        }
      ],
      "source": [
        "label=loaded_model.predict(img_arr)"
      ]
    },
    {
      "cell_type": "code",
      "source": [
        "label=np.argmax(prediction)\n",
        "print(label_dict[label])"
      ],
      "metadata": {
        "colab": {
          "base_uri": "https://localhost:8080/"
        },
        "id": "BKAHq3FXEGWe",
        "outputId": "60e97a46-6720-46ad-c902-84d162949973"
      },
      "execution_count": null,
      "outputs": [
        {
          "output_type": "stream",
          "name": "stdout",
          "text": [
            "Acne\n"
          ]
        }
      ]
    },
    {
      "cell_type": "markdown",
      "metadata": {
        "id": "my00_6MEYaIg"
      },
      "source": []
    }
  ],
  "metadata": {
    "colab": {
      "provenance": [],
      "mount_file_id": "1421qK6YhHPIaCrnmEDEgtVcJeflJHTtm",
      "authorship_tag": "ABX9TyMtAsHLWvebY5GLBmP+66kn",
      "include_colab_link": true
    },
    "kernelspec": {
      "display_name": "Python 3",
      "name": "python3"
    },
    "language_info": {
      "name": "python"
    }
  },
  "nbformat": 4,
  "nbformat_minor": 0
}